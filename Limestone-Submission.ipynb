{
 "cells": [
  {
   "cell_type": "markdown",
   "metadata": {
    "id": "9MNF4jJRikH_"
   },
   "source": [
    "Submission by\n",
    "* Govind Saju (200070020)\n",
    "* Virendra Kabra (200050157)"
   ]
  },
  {
   "cell_type": "markdown",
   "metadata": {
    "id": "cjIxG6Rni7me"
   },
   "source": [
    "# Initial Setup"
   ]
  },
  {
   "cell_type": "code",
   "execution_count": 1,
   "metadata": {
    "id": "BjTSQxUgiro9"
   },
   "outputs": [],
   "source": [
    "import pandas as pd\n",
    "import numpy as np\n",
    "import sklearn"
   ]
  },
  {
   "cell_type": "code",
   "execution_count": 2,
   "metadata": {
    "id": "wnM5lva_irrZ"
   },
   "outputs": [],
   "source": [
    "# Reading the given data files\n",
    "stocks = pd.read_csv('data_challenge_stock_prices.csv')\n",
    "index = pd.read_csv('data_challenge_index_prices.csv')"
   ]
  },
  {
   "cell_type": "code",
   "execution_count": 3,
   "metadata": {
    "id": "6LLlWvOVirtp"
   },
   "outputs": [],
   "source": [
    "# A function to read a dataframe in the format of the files given, and provides the return of the stock/index in BPS\n",
    "def getBPS(df):\n",
    "    mat = df.to_numpy()\n",
    "    returns = (mat[1:] - mat[:len(mat)-1])/mat[:len(mat)-1]\n",
    "    return returns * 10000"
   ]
  },
  {
   "cell_type": "code",
   "execution_count": 4,
   "metadata": {
    "id": "hxJOGInqirwT"
   },
   "outputs": [],
   "source": [
    "st = getBPS(stocks)\n",
    "indices = getBPS(index)"
   ]
  },
  {
   "cell_type": "markdown",
   "metadata": {
    "id": "4zU4tC86jT-5"
   },
   "source": [
    "# Classifying stocks into sectors\n",
    "\n",
    "In order to perform this classification, we utilised the pearson correlation coefficient of two stocks to compare how similar they are. Initially, we are unaware how many different sectors exist. We use a simple heuristic for identifying sectors - a stock will likely be in the same sector as the other stock it is most correlated to. "
   ]
  },
  {
   "cell_type": "code",
   "execution_count": 5,
   "metadata": {
    "id": "BZWmw4o9jTem"
   },
   "outputs": [],
   "source": [
    "from scipy import stats"
   ]
  },
  {
   "cell_type": "code",
   "execution_count": 6,
   "metadata": {
    "id": "Pb5Zc4L2iryA"
   },
   "outputs": [],
   "source": [
    "corr = np.zeros((100,100)) #corr[i][j] will store the correlation of stocks i,j\n",
    "for i in range(100):\n",
    "    for j in range(100):\n",
    "        if i<j:\n",
    "          corr[i][j] = stats.pearsonr(st[:,i],st[:,j])[0]\n",
    "        elif i==j:\n",
    "          corr[i][j] = 1\n",
    "        else:\n",
    "          corr[i][j] = corr[j][i]"
   ]
  },
  {
   "cell_type": "code",
   "execution_count": 7,
   "metadata": {
    "id": "N0qaLMo9ir0J"
   },
   "outputs": [],
   "source": [
    "maxcorr = np.zeros(100,dtype=np.int32) # Maxcorr[i] will store the index of the stock the stock i has the highest correlation with (except itself)\n",
    "for i in range(100):\n",
    "    ind = (i+1)%100\n",
    "    for j in range(100):\n",
    "        if i==j:\n",
    "            continue\n",
    "        if corr[i][j]>corr[i][ind]:\n",
    "            ind = j\n",
    "    maxcorr[i] = ind"
   ]
  },
  {
   "cell_type": "code",
   "execution_count": 8,
   "metadata": {
    "id": "OZDGWrWPir3L"
   },
   "outputs": [
    {
     "data": {
      "text/plain": [
       "{88, 90, 91, 95, 96, 97, 98, 99}"
      ]
     },
     "execution_count": 8,
     "metadata": {},
     "output_type": "execute_result"
    }
   ],
   "source": [
    "set(maxcorr)"
   ]
  },
  {
   "cell_type": "markdown",
   "metadata": {
    "id": "GITTc7bDkcUL"
   },
   "source": [
    "From these, we see there are only a few stocks and most other stocks are highly related to one of these stocks. Hence, we divide them into buckets based on this."
   ]
  },
  {
   "cell_type": "code",
   "execution_count": 9,
   "metadata": {
    "id": "Hr16BHskir6Y"
   },
   "outputs": [
    {
     "name": "stdout",
     "output_type": "stream",
     "text": [
      "88 [0, 4, 11, 14, 18, 20, 21, 22, 25, 26, 38, 39, 43, 45, 49, 54, 67, 75, 78, 79, 82, 90]\n",
      "90 [1, 10, 88]\n",
      "98 [2, 3, 6, 7, 9, 16, 17, 19, 23, 28, 32, 33, 42, 47, 51, 53, 58, 60, 63, 66, 72, 81, 87, 91]\n",
      "97 [5, 13, 15, 24, 31, 34, 35, 37, 48, 56, 61, 62, 64, 65, 68, 70, 76, 83, 85, 86, 89, 93, 94, 95]\n",
      "99 [8, 12, 27, 29, 30, 36, 40, 41, 44, 46, 50, 52, 55, 57, 59, 69, 71, 73, 74, 77, 80, 84, 92, 96]\n",
      "95 [97]\n",
      "91 [98]\n",
      "96 [99]\n"
     ]
    }
   ],
   "source": [
    "buckets = {i:[] for i in maxcorr}\n",
    "for i in range(100):\n",
    "    buckets[maxcorr[i]].append(i)\n",
    "for i in buckets:\n",
    "    print(i,buckets[i])"
   ]
  },
  {
   "cell_type": "markdown",
   "metadata": {
    "id": "e3A0AeRkky3e"
   },
   "source": [
    "From these, we observe there are 4 major sectors - those from stocks 88, 97, 98 and 99. 90 is in the same bucket as 88, hence those stocks in its bucket can be added to the 88 bucket. 91, 95 and 96 are already in the other buckets. Hence, we have a total of 4 buckets / sectors."
   ]
  },
  {
   "cell_type": "code",
   "execution_count": 10,
   "metadata": {
    "id": "yExtR_x-ir9z"
   },
   "outputs": [],
   "source": [
    "#Implementing the details outlined in the text\n",
    "buckets[88].extend(buckets[90])\n",
    "buckets.pop(90)\n",
    "buckets.pop(95)\n",
    "buckets.pop(91)\n",
    "buckets.pop(96)\n",
    "buckets[98].append(98)\n",
    "buckets[97].append(97)\n",
    "buckets[99].append(99)"
   ]
  },
  {
   "cell_type": "code",
   "execution_count": 11,
   "metadata": {
    "id": "ygySb5DKisAj"
   },
   "outputs": [
    {
     "name": "stdout",
     "output_type": "stream",
     "text": [
      "[[ 0  4 11 14 18 20 21 22 25 26 38 39 43 45 49 54 67 75 78 79 82 90  1 10\n",
      "  88]\n",
      " [ 2  3  6  7  9 16 17 19 23 28 32 33 42 47 51 53 58 60 63 66 72 81 87 91\n",
      "  98]\n",
      " [ 5 13 15 24 31 34 35 37 48 56 61 62 64 65 68 70 76 83 85 86 89 93 94 95\n",
      "  97]\n",
      " [ 8 12 27 29 30 36 40 41 44 46 50 52 55 57 59 69 71 73 74 77 80 84 92 96\n",
      "  99]]\n"
     ]
    }
   ],
   "source": [
    "sectors = []\n",
    "for i in buckets:\n",
    "    sectors.append(buckets[i])\n",
    "sectors = np.array(sectors)\n",
    "print(sectors)"
   ]
  },
  {
   "cell_type": "markdown",
   "metadata": {
    "id": "zzO3rhJBllN7"
   },
   "source": [
    "Thus, we have hypothesised that there are 4 sectors, each containing 25 stocks apiece. In order to test our hypothesis, we plot heatmaps of the correlation between the stocks of different sectors."
   ]
  },
  {
   "cell_type": "code",
   "execution_count": 12,
   "metadata": {
    "id": "4ImMY2tDlk1_"
   },
   "outputs": [],
   "source": [
    "# A helper function to generate these plots\n",
    "def correlation(vec1, vec2):\n",
    "    dim1 = vec1.shape[1]\n",
    "    dim2 = vec2.shape[1]\n",
    "    correl = np.zeros((dim1,dim2),dtype=np.float32)\n",
    "    for i in range(dim1):\n",
    "        for j in range(dim2):\n",
    "            correl[i][j] = stats.pearsonr(vec1[:,i],vec2[:,j])[0]\n",
    "    return correl"
   ]
  },
  {
   "cell_type": "code",
   "execution_count": 13,
   "metadata": {
    "id": "KiqcApd3liBG"
   },
   "outputs": [],
   "source": [
    "import seaborn as sbn\n",
    "import matplotlib.pyplot as plt"
   ]
  },
  {
   "cell_type": "code",
   "execution_count": 14,
   "metadata": {
    "id": "V-rLexIinIG3"
   },
   "outputs": [],
   "source": [
    "stock_sectorwise = np.array([st[:,sectors[i]] for i in range(4)]) # To store the timeseries data of each sector for easy retrieval"
   ]
  },
  {
   "cell_type": "code",
   "execution_count": 15,
   "metadata": {
    "id": "EodP2KN_nKUq"
   },
   "outputs": [
    {
     "data": {
      "image/png": "[encoded data removed]",
      "text/plain": [
       "<Figure size 432x288 with 2 Axes>"
      ]
     },
     "metadata": {
      "needs_background": "light"
     },
     "output_type": "display_data"
    },
    {
     "data": {
      "image/png": "[encoded data removed]",
      "text/plain": [
       "<Figure size 432x288 with 2 Axes>"
      ]
     },
     "metadata": {
      "needs_background": "light"
     },
     "output_type": "display_data"
    },
    {
     "data": {
      "image/png": "[encoded data removed]",
      "text/plain": [
       "<Figure size 432x288 with 2 Axes>"
      ]
     },
     "metadata": {
      "needs_background": "light"
     },
     "output_type": "display_data"
    },
    {
     "data": {
      "image/png": "[encoded data removed]",
      "text/plain": [
       "<Figure size 432x288 with 2 Axes>"
      ]
     },
     "metadata": {
      "needs_background": "light"
     },
     "output_type": "display_data"
    },
    {
     "data": {
      "image/png": "[encoded data removed]",
      "text/plain": [
       "<Figure size 432x288 with 2 Axes>"
      ]
     },
     "metadata": {
      "needs_background": "light"
     },
     "output_type": "display_data"
    },
    {
     "data": {
      "image/png": "[encoded data removed]",
      "text/plain": [
       "<Figure size 432x288 with 2 Axes>"
      ]
     },
     "metadata": {
      "needs_background": "light"
     },
     "output_type": "display_data"
    },
    {
     "data": {
      "image/png": "[encoded data removed]",
      "text/plain": [
       "<Figure size 432x288 with 2 Axes>"
      ]
     },
     "metadata": {
      "needs_background": "light"
     },
     "output_type": "display_data"
    },
    {
     "data": {
      "image/png": "[encoded data removed]",
      "text/plain": [
       "<Figure size 432x288 with 2 Axes>"
      ]
     },
     "metadata": {
      "needs_background": "light"
     },
     "output_type": "display_data"
    },
    {
     "data": {
      "image/png": "[encoded data removed]",
      "text/plain": [
       "<Figure size 432x288 with 2 Axes>"
      ]
     },
     "metadata": {
      "needs_background": "light"
     },
     "output_type": "display_data"
    },
    {
     "data": {
      "image/png": "[encoded data removed]",
      "text/plain": [
       "<Figure size 432x288 with 2 Axes>"
      ]
     },
     "metadata": {
      "needs_background": "light"
     },
     "output_type": "display_data"
    }
   ],
   "source": [
    "for i in range(4):\n",
    "    for j in range(i,4):\n",
    "        plt.title(f\"Sector {i} vs Sector {j}\")\n",
    "        sbn.heatmap(correlation(stock_sectorwise[i],stock_sectorwise[j]),vmin=0,vmax=0.5)\n",
    "        plt.show()"
   ]
  },
  {
   "cell_type": "markdown",
   "metadata": {
    "id": "SmceOoMTnLTy"
   },
   "source": [
    "The generated plots show that the sectorwise classification is likely to be correct, as there is negligible correlation between the stocks of different sectors, while there is significant correlation between the stocks in the same sector.\n"
   ]
  },
  {
   "cell_type": "markdown",
   "metadata": {
    "id": "dMwWp5munxMW"
   },
   "source": [
    "# Predicting which sector each index belongs to"
   ]
  },
  {
   "cell_type": "markdown",
   "metadata": {
    "id": "_cRg7kJdoC7h"
   },
   "source": [
    "In order to predict which index belongs to which sector, we intend to train a simple model, and see whether any learning is happening. If the index is being trained on the right sector, then there would be improvements in the prediction correlation, whereas in the other sectors, there would be no correlation as the two statistics are independent. We first try a simple linear model to begin with."
   ]
  },
  {
   "cell_type": "code",
   "execution_count": 16,
   "metadata": {
    "id": "mpmVHzB0nKyg"
   },
   "outputs": [],
   "source": [
    "from sklearn.linear_model import LinearRegression\n",
    "from sklearn.neural_network import MLPRegressor"
   ]
  },
  {
   "cell_type": "code",
   "execution_count": 17,
   "metadata": {
    "id": "Y4x3PvdAoCBi"
   },
   "outputs": [],
   "source": [
    "def test(Func):   \n",
    "    pred_corr = np.zeros((15,4))\n",
    "    for i in range(4):\n",
    "        for j in range(15):\n",
    "            x = stock_sectorwise[i]     # 199999,25\n",
    "            y = indices                 # 199999,1\n",
    "            x_tr = x[0:12000]\n",
    "            x_te = x[12000:]\n",
    "            y_tr = y[0:12000,j]\n",
    "            y_te = y[12000:,j]\n",
    "            model = Func()\n",
    "            model.fit(x_tr,y_tr)\n",
    "            y_pred = model.predict(x_te)\n",
    "            pecorr = stats.pearsonr(y_te[:],y_pred[:])[0]\n",
    "            pred_corr[j][i] = pecorr\n",
    "    \n",
    "    posn = np.argmax(pred_corr,axis=1)\n",
    "    for i in range(15):\n",
    "        print(i,pred_corr[i],posn[i])\n"
   ]
  },
  {
   "cell_type": "code",
   "execution_count": 18,
   "metadata": {
    "id": "MrcBQ61zo4SK"
   },
   "outputs": [
    {
     "name": "stdout",
     "output_type": "stream",
     "text": [
      "Linear\n",
      "0 [0.44428666 0.08731293 0.08200398 0.08465401] 0\n",
      "1 [0.05599844 0.05183528 0.31142448 0.05264355] 2\n",
      "2 [0.20657407 0.01151913 0.01726661 0.01918735] 0\n",
      "3 [0.0298753  0.34350168 0.02661995 0.02855217] 1\n",
      "4 [0.09505984 0.07339035 0.08738046 0.44746208] 3\n",
      "5 [0.01818233 0.0265306  0.21575747 0.0275874 ] 2\n",
      "6 [0.08724768 0.44362346 0.09761592 0.08195443] 1\n",
      "7 [0.30144975 0.05163767 0.05164508 0.05090786] 0\n",
      "8 [0.04894639 0.30381171 0.05049344 0.05297393] 1\n",
      "9 [0.02944939 0.02110999 0.03250083 0.34517321] 3\n",
      "10 [0.01015871 0.02096384 0.3408217  0.01171519] 2\n",
      "11 [-0.00015145  0.00158011 -0.00180775 -0.00240251] 1\n",
      "12 [ 0.00549766 -0.00246269  0.00126297 -0.00114666] 0\n",
      "13 [-0.00341212  0.00479849  0.00124561 -0.00108384] 1\n",
      "14 [0.01209144 0.00158175 0.00911624 0.20853675] 3\n"
     ]
    }
   ],
   "source": [
    "print(\"Linear\")\n",
    "test(LinearRegression)"
   ]
  },
  {
   "cell_type": "markdown",
   "metadata": {
    "id": "lJ8_PpiBovo8"
   },
   "source": [
    "From the above data, we are able to obtain the sectors for all indices except indices 11,12 and 13. A more complex model may be needed in this segment. We try out a simple neural network (aka multi layer perceptron or MLP in sklearn) for these."
   ]
  },
  {
   "cell_type": "code",
   "execution_count": 19,
   "metadata": {
    "id": "BBF0NpF_pKev"
   },
   "outputs": [
    {
     "name": "stdout",
     "output_type": "stream",
     "text": [
      "MLP\n",
      "0 [0.29163925 0.01707298 0.01973109 0.02904094] 0\n",
      "1 [0.01279839 0.00608836 0.22103787 0.00386441] 2\n",
      "2 [ 0.38081152  0.00452805  0.00735969 -0.00093521] 0\n",
      "3 [ 0.00196871  0.31471257 -0.00201379  0.01277601] 1\n",
      "4 [0.0147157  0.00898068 0.0088623  0.30836637] 3\n",
      "5 [ 0.00910079 -0.00528372  0.38154642  0.00175844] 2\n",
      "6 [0.01286464 0.30061082 0.01561245 0.01697052] 1\n",
      "7 [0.22846705 0.0106959  0.00282917 0.00379129] 0\n",
      "8 [0.00136504 0.2559067  0.00139402 0.01595833] 1\n",
      "9 [0.00965886 0.00299851 0.00094139 0.3057748 ] 3\n",
      "10 [ 0.00366227 -0.00158355  0.3184435   0.0049074 ] 2\n",
      "11 [ 0.30345044  0.00135102 -0.00108709  0.00349527] 0\n",
      "12 [ 0.00104688 -0.00071054  0.00198147  0.27860135] 3\n",
      "13 [ 0.00347034  0.30176857  0.0047987  -0.00146851] 1\n",
      "14 [4.47451247e-03 2.68727715e-04 4.46259318e-03 3.82426254e-01] 3\n"
     ]
    }
   ],
   "source": [
    "print(\"MLP\")\n",
    "import warnings\n",
    "with warnings.catch_warnings():\n",
    "    warnings.simplefilter(\"ignore\")     # This is needed as we do not expect full convergence of the model,\n",
    "                                        # we only wish to see in which sector it is learning from.\n",
    "    test(MLPRegressor)"
   ]
  },
  {
   "cell_type": "markdown",
   "metadata": {
    "id": "3mppVH3ipgTi"
   },
   "source": [
    "From the above experiments, we can deduce the sectors for each index. For future use, we store them in the following dictionary."
   ]
  },
  {
   "cell_type": "code",
   "execution_count": 20,
   "metadata": {
    "id": "IQ5NSM6mpKb9"
   },
   "outputs": [],
   "source": [
    "index_sector = {0:0,1:2,2:0,3:1,4:3,5:2,6:1,7:0,8:1,9:3,10:2,11:0,12:3,13:1,14:3}"
   ]
  },
  {
   "cell_type": "markdown",
   "metadata": {
    "id": "_o6k7q89qWkb"
   },
   "source": [
    "# Creating models for each index\n",
    "\n",
    "In this section, we first create a function for training and evaluating different models. We also add some insights we obtained for some of the sectors.\n",
    "\n",
    "We use the first 160000 steps as training data, and evaluate our predictive correlation of the models on the next 20000 steps."
   ]
  },
  {
   "cell_type": "code",
   "execution_count": 21,
   "metadata": {
    "id": "lbCGDp13pKSy"
   },
   "outputs": [],
   "source": [
    "def train_and_evaluate(ind_num,sector_num,train_len,test_len,model, do_scale=False, do_poly=-1):\n",
    "    train_x = stock_sectorwise[sector_num][:train_len]\n",
    "    train_y = indices[:train_len,ind_num]\n",
    "    test_x = stock_sectorwise[sector_num][train_len:train_len+test_len]\n",
    "    test_y = indices[train_len:train_len+test_len,ind_num]\n",
    "\n",
    "    if do_scale:\n",
    "        # scale data\n",
    "        scaler = sklearn.preprocessing.MinMaxScaler().fit(train_x)\n",
    "        train_x = scaler.transform(train_x)\n",
    "        test_x = scaler.transform(test_x)\n",
    "\n",
    "    if do_poly != -1:\n",
    "        # use polynomial features\n",
    "        poly = sklearn.preprocessing.PolynomialFeatures(degree=do_poly)\n",
    "        train_x = poly.fit_transform(train_x)\n",
    "        test_x = poly.fit_transform(test_x)\n",
    "\n",
    "    model.fit(train_x,train_y)\n",
    "    y_pred = model.predict(test_x)\n",
    "    pecorr = stats.pearsonr(test_y,y_pred)[0]\n",
    "    print(f\"Predictive correlation for index {ind_num} : {pecorr}\")\n",
    "    return model"
   ]
  },
  {
   "cell_type": "code",
   "execution_count": 22,
   "metadata": {
    "id": "apyX56a4qme_"
   },
   "outputs": [],
   "source": [
    "train_len = 160000-1\n",
    "test_len = 20000"
   ]
  },
  {
   "cell_type": "code",
   "execution_count": 23,
   "metadata": {
    "id": "cnGd-8_xrXc6"
   },
   "outputs": [
    {
     "name": "stdout",
     "output_type": "stream",
     "text": [
      "Predictive correlation for index 0 : 0.4407120849740961\n"
     ]
    }
   ],
   "source": [
    "#Index 0:\n",
    "#Linear Model\n",
    "\n",
    "ind_num = 0\n",
    "sector_num = index_sector[ind_num]\n",
    "mod0 = LinearRegression()\n",
    "\n",
    "mod0 = train_and_evaluate(ind_num,sector_num,train_len,test_len,mod0)"
   ]
  },
  {
   "cell_type": "code",
   "execution_count": 24,
   "metadata": {
    "id": "DJ2a1Mqur9Ih"
   },
   "outputs": [
    {
     "name": "stdout",
     "output_type": "stream",
     "text": [
      "Predictive correlation for index 1 : 0.4202956228958846\n"
     ]
    }
   ],
   "source": [
    "#Index 1:\n",
    "#Neural Net\n",
    "ind_num = 1\n",
    "sector_num = index_sector[ind_num]\n",
    "mod1 = MLPRegressor(hidden_layer_sizes=(100))\n",
    "mod1 = train_and_evaluate(ind_num,sector_num,train_len,test_len,mod1, do_scale=True)"
   ]
  },
  {
   "cell_type": "code",
   "execution_count": 25,
   "metadata": {
    "id": "IaJyRxXysQjU"
   },
   "outputs": [
    {
     "name": "stdout",
     "output_type": "stream",
     "text": [
      "Predictive correlation for index 2 : 0.5940931564130454\n"
     ]
    }
   ],
   "source": [
    "#Index 2:\n",
    "#Neural Net\n",
    "ind_num = 2\n",
    "sector_num = index_sector[ind_num]\n",
    "mod2 = MLPRegressor(hidden_layer_sizes=(20))\n",
    "mod2 = train_and_evaluate(ind_num,sector_num,train_len,test_len,mod2)"
   ]
  },
  {
   "cell_type": "code",
   "execution_count": 26,
   "metadata": {
    "id": "1W68bBdgsS0T"
   },
   "outputs": [
    {
     "name": "stdout",
     "output_type": "stream",
     "text": [
      "Predictive correlation for index 3 : 0.4427932468140391\n"
     ]
    }
   ],
   "source": [
    "#Index 3:\n",
    "#Neural Net\n",
    "ind_num = 3\n",
    "sector_num = index_sector[ind_num]\n",
    "mod3 = MLPRegressor(hidden_layer_sizes=(5))\n",
    "mod3 = train_and_evaluate(ind_num,sector_num,train_len,test_len,mod3)"
   ]
  },
  {
   "cell_type": "code",
   "execution_count": 27,
   "metadata": {
    "id": "F-d200_CsVGD"
   },
   "outputs": [
    {
     "name": "stdout",
     "output_type": "stream",
     "text": [
      "Predictive correlation for index 4 : 0.4457420841839246\n"
     ]
    }
   ],
   "source": [
    "#Index 4:\n",
    "#Linear Model\n",
    "ind_num = 4\n",
    "sector_num = index_sector[ind_num]\n",
    "# mod4 = LinearRegression()\n",
    "mod4 = MLPRegressor(hidden_layer_sizes=20)\n",
    "mod4 = train_and_evaluate(ind_num,sector_num,train_len,test_len,mod4)"
   ]
  },
  {
   "cell_type": "code",
   "execution_count": 28,
   "metadata": {
    "id": "42YdsdfgsYbP"
   },
   "outputs": [
    {
     "name": "stdout",
     "output_type": "stream",
     "text": [
      "Predictive correlation for index 5 : 0.5488166820135458\n"
     ]
    }
   ],
   "source": [
    "#Index 5:\n",
    "#Neural Net\n",
    "ind_num = 5\n",
    "sector_num = index_sector[ind_num]\n",
    "mod5 = MLPRegressor(hidden_layer_sizes=(10))\n",
    "mod5 = train_and_evaluate(ind_num,sector_num,train_len,test_len,mod5)"
   ]
  },
  {
   "cell_type": "code",
   "execution_count": 29,
   "metadata": {
    "id": "Nj6ILkqBsbRw"
   },
   "outputs": [
    {
     "name": "stdout",
     "output_type": "stream",
     "text": [
      "Predictive correlation for index 6 : 0.4487878113929495\n"
     ]
    }
   ],
   "source": [
    "#Index 6:\n",
    "#Neural Net\n",
    "ind_num = 6\n",
    "sector_num = index_sector[ind_num]\n",
    "mod6 = MLPRegressor(hidden_layer_sizes=(5))\n",
    "mod6 = train_and_evaluate(ind_num,sector_num,train_len,test_len,mod6)"
   ]
  },
  {
   "cell_type": "code",
   "execution_count": 30,
   "metadata": {
    "id": "oTAc1Hs0sgYx"
   },
   "outputs": [
    {
     "name": "stdout",
     "output_type": "stream",
     "text": [
      "Predictive correlation for index 7 : 0.40410531360208485\n"
     ]
    }
   ],
   "source": [
    "#Index 7:\n",
    "#Neural Net\n",
    "ind_num = 7\n",
    "sector_num = index_sector[ind_num]\n",
    "mod7 = MLPRegressor(hidden_layer_sizes=(80))\n",
    "mod7 = train_and_evaluate(ind_num,sector_num,train_len,test_len,mod7)"
   ]
  },
  {
   "cell_type": "code",
   "execution_count": 31,
   "metadata": {
    "id": "pm68yjN9slkQ"
   },
   "outputs": [
    {
     "name": "stdout",
     "output_type": "stream",
     "text": [
      "Predictive correlation for index 8 : 0.40974835433046425\n"
     ]
    }
   ],
   "source": [
    "#Index 8:\n",
    "#Neural Net\n",
    "ind_num = 8\n",
    "sector_num = index_sector[ind_num]\n",
    "mod8 = MLPRegressor(hidden_layer_sizes=(80))\n",
    "mod8 = train_and_evaluate(ind_num,sector_num,train_len,test_len,mod8)"
   ]
  },
  {
   "cell_type": "code",
   "execution_count": 32,
   "metadata": {
    "id": "oixSmWZfsorQ"
   },
   "outputs": [
    {
     "name": "stdout",
     "output_type": "stream",
     "text": [
      "Predictive correlation for index 9 : 0.4312795402100326\n"
     ]
    }
   ],
   "source": [
    "#Index 9:\n",
    "#Neural Net\n",
    "ind_num = 9\n",
    "sector_num = index_sector[ind_num]\n",
    "mod9 = MLPRegressor(hidden_layer_sizes=(80))\n",
    "mod9 = train_and_evaluate(ind_num,sector_num,train_len,test_len,mod9)"
   ]
  },
  {
   "cell_type": "code",
   "execution_count": 33,
   "metadata": {
    "id": "8645nFmcsrh9"
   },
   "outputs": [
    {
     "name": "stdout",
     "output_type": "stream",
     "text": [
      "Predictive correlation for index 10 : 0.43883136152813396\n"
     ]
    }
   ],
   "source": [
    "#Index 10:\n",
    "#Neural Net\n",
    "ind_num = 10\n",
    "sector_num = index_sector[ind_num]\n",
    "mod10 = MLPRegressor(hidden_layer_sizes=(80))\n",
    "mod10 = train_and_evaluate(ind_num,sector_num,train_len,test_len,mod10)"
   ]
  },
  {
   "cell_type": "code",
   "execution_count": 34,
   "metadata": {
    "id": "T8nUtjTUstQf"
   },
   "outputs": [
    {
     "name": "stdout",
     "output_type": "stream",
     "text": [
      "Predictive correlation for index 11 : 0.43367326863343564\n"
     ]
    }
   ],
   "source": [
    "#Index 11:\n",
    "#Neural Net\n",
    "ind_num = 11\n",
    "sector_num = index_sector[ind_num]\n",
    "mod11 = MLPRegressor(hidden_layer_sizes=(80))\n",
    "mod11 = train_and_evaluate(ind_num,sector_num,train_len,test_len,mod11)"
   ]
  },
  {
   "cell_type": "code",
   "execution_count": 35,
   "metadata": {
    "id": "bjf6xlftswKl"
   },
   "outputs": [
    {
     "name": "stdout",
     "output_type": "stream",
     "text": [
      "Predictive correlation for index 12 : 0.430872773313565\n"
     ]
    }
   ],
   "source": [
    "#Index 12:\n",
    "#Neural Net\n",
    "ind_num = 12\n",
    "sector_num = index_sector[ind_num]\n",
    "mod12 = MLPRegressor(hidden_layer_sizes=(80))\n",
    "mod12 = train_and_evaluate(ind_num,sector_num,train_len,test_len,mod12)"
   ]
  },
  {
   "cell_type": "code",
   "execution_count": 36,
   "metadata": {
    "id": "LsFq_42ksyPn"
   },
   "outputs": [
    {
     "name": "stdout",
     "output_type": "stream",
     "text": [
      "Predictive correlation for index 13 : 0.42716806771811333\n"
     ]
    }
   ],
   "source": [
    "#Index 13:\n",
    "#Neural Net\n",
    "ind_num = 13\n",
    "sector_num = index_sector[ind_num]\n",
    "mod13 = MLPRegressor(hidden_layer_sizes=(80))\n",
    "mod13 = train_and_evaluate(ind_num,sector_num,train_len,test_len,mod13)"
   ]
  },
  {
   "cell_type": "code",
   "execution_count": 37,
   "metadata": {
    "id": "CEouEx-0sz0D"
   },
   "outputs": [
    {
     "name": "stdout",
     "output_type": "stream",
     "text": [
      "Predictive correlation for index 14 : 0.5814217215401098\n"
     ]
    }
   ],
   "source": [
    "#Index 14:\n",
    "#Neural Net\n",
    "ind_num = 14\n",
    "sector_num = index_sector[ind_num]\n",
    "mod14 = MLPRegressor(hidden_layer_sizes=(20))\n",
    "mod14 = train_and_evaluate(ind_num,sector_num,train_len,test_len,mod14)"
   ]
  },
  {
   "cell_type": "code",
   "execution_count": 38,
   "metadata": {
    "id": "8YW-kSDKs2IO"
   },
   "outputs": [],
   "source": [
    "models = [mod0,mod1,mod2,mod3,mod4,mod5,mod6,mod7,mod8,mod9,mod10,mod11,mod12,mod13,mod14]\n",
    "import joblib\n",
    "import pathlib\n",
    "\n",
    "pathlib.Path('models').mkdir(exist_ok=True)\n",
    "\n",
    "for i,mod in enumerate(models):\n",
    "    joblib.dump(mod, f'models/{i}.pkl')"
   ]
  },
  {
   "cell_type": "code",
   "execution_count": 39,
   "metadata": {
    "id": "TFCZC7L_s5MB"
   },
   "outputs": [],
   "source": [
    "# Uncomment if loading models trained during earlier runs\n",
    "# import joblib\n",
    "# models = []\n",
    "# for i in range(15):\n",
    "#     models.append(joblib.load(open(f'models/{i}.pkl','rb')))"
   ]
  },
  {
   "cell_type": "markdown",
   "metadata": {
    "id": "8lFRh52jtaTX"
   },
   "source": [
    "# Predicting using the above models and covariance matrix construction"
   ]
  },
  {
   "cell_type": "code",
   "execution_count": 40,
   "metadata": {
    "id": "YSEdmhkCs-7y"
   },
   "outputs": [],
   "source": [
    "def predict(returns): #Takes stock returns as input, returns index return predictions.\n",
    "    res = []\n",
    "    for i in range(15):\n",
    "        inp = returns[:,sectors[index_sector[i]]]\n",
    "        res.append(models[i].predict(inp))\n",
    "    \n",
    "    return np.array(res).T"
   ]
  },
  {
   "cell_type": "code",
   "execution_count": 41,
   "metadata": {
    "id": "93xElAAAtk_K"
   },
   "outputs": [],
   "source": [
    "predictions = predict(st[train_len:])\n",
    "covmat = ((predictions.T @ predictions)/len(predictions)) - np.outer(np.mean(predictions,axis=0),np.mean(predictions,axis=0))"
   ]
  },
  {
   "cell_type": "markdown",
   "metadata": {},
   "source": [
    "We trade on the following sets\n",
    "1. All indices\n",
    "2. Indices for which models give >41% predictive correlation (implying better trained models)"
   ]
  },
  {
   "cell_type": "code",
   "execution_count": 42,
   "metadata": {},
   "outputs": [],
   "source": [
    "all_indices = list(range(15))                      # point-1 from above\n",
    "subset_of_indices = [0,2,3,4,5,6,9,10,11,12,13,14]     # point-2 from above"
   ]
  },
  {
   "cell_type": "code",
   "execution_count": 43,
   "metadata": {},
   "outputs": [],
   "source": [
    "basev = train_len\n",
    "timesteps = 200000-1-basev"
   ]
  },
  {
   "cell_type": "markdown",
   "metadata": {},
   "source": [
    "## Trading Strategy\n",
    "\n",
    "- Below is a linear-programming based trading strategy. Bounds and constraints are used, as mentioned in the statement\n",
    "- We optimize on returns, or on sharpe"
   ]
  },
  {
   "cell_type": "code",
   "execution_count": 44,
   "metadata": {},
   "outputs": [],
   "source": [
    "from scipy.optimize import minimize\n",
    "\n",
    "def tradingstrategy(timesteps, pred, cov_submat, optimize):\n",
    "  # To return a portfolio of length timesteps, containing the position of each index we're trading in at time T\n",
    "\n",
    "    def objective_func(portfolio, predictions, optimize_for='returns'):\n",
    "        returns = np.dot(portfolio, predictions)\n",
    "        if optimize_for=='returns':\n",
    "            return -returns\n",
    "        elif optimize_for=='sharpe':\n",
    "            var = np.dot(portfolio,np.dot(cov_submat, portfolio))\n",
    "            return -returns/np.sqrt(var)\n",
    "    \n",
    "    portfolios = []\n",
    "    for t in range(timesteps):\n",
    "        return_pred = pred[t]\n",
    "        init_guess = np.ones_like(return_pred)\n",
    "        init_guess /= len(init_guess)\n",
    "\n",
    "        # bound allocations in [-1,1]\n",
    "        bounds = [(-1,1) for i in range(len(init_guess))]\n",
    "\n",
    "        # all allocations must add up to zero\n",
    "        constraints = ({\"type\": \"eq\", \"fun\": lambda x: np.sum(x)})\n",
    "        \n",
    "        portf = minimize(\n",
    "            lambda wt:objective_func(wt, return_pred, optimize),\n",
    "            init_guess,\n",
    "            method=\"SLSQP\",\n",
    "            bounds=bounds,\n",
    "            constraints=constraints).x\n",
    "        portfolios.append(portf)\n",
    "\n",
    "    return portfolios"
   ]
  },
  {
   "cell_type": "markdown",
   "metadata": {},
   "source": [
    "Compute mean, standard deviation, and sharpe of the strategies"
   ]
  },
  {
   "cell_type": "code",
   "execution_count": 45,
   "metadata": {},
   "outputs": [
    {
     "name": "stdout",
     "output_type": "stream",
     "text": [
      "Trading on all indices optimize: returns - mean: 9.6, standard deviation: 8.22, sharpe: 1.17\n",
      "Trading on a subset of indices optimize: returns - mean: 9.08, standard deviation: 8.25, sharpe: 1.1\n",
      "Trading on all indices optimize: sharpe - mean: 3.31, standard deviation: 2.92, sharpe: 1.13\n",
      "Trading on a subset of indices optimize: sharpe - mean: 4.25, standard deviation: 3.41, sharpe: 1.25\n"
     ]
    }
   ],
   "source": [
    "for optim in ['returns', 'sharpe']:\n",
    "    for c,indices_to_trade in enumerate([all_indices,subset_of_indices]):\n",
    "        if c==0:\n",
    "            print(\"Trading on all indices\",end=\" \")\n",
    "        else:\n",
    "            print(\"Trading on a subset of indices\",end=\" \")\n",
    "        stock_prices = st[basev:basev+timesteps]\n",
    "        pred = predict(stock_prices)[:,indices_to_trade]\n",
    "        cov_submat = covmat[indices_to_trade,:][:,indices_to_trade]\n",
    "        portfolios = tradingstrategy(timesteps, pred, cov_submat, optim)\n",
    "        index_prices = indices[basev:basev+timesteps, indices_to_trade]\n",
    "\n",
    "        return_perc = []\n",
    "        for a,b in zip(portfolios,index_prices):\n",
    "            return_perc.append(np.dot(a,b))\n",
    "\n",
    "        strat_mean = np.mean(return_perc)\n",
    "        strat_std_dev = np.std(return_perc)\n",
    "        strat_sharpe = strat_mean/strat_std_dev\n",
    "\n",
    "        print(f\"optimize: {optim} - mean: {round(strat_mean,2)}, standard deviation: {round(strat_std_dev,2)}, sharpe: {round(strat_sharpe,2)}\")"
   ]
  },
  {
   "cell_type": "markdown",
   "metadata": {},
   "source": [
    "## Experiments and Observations\n",
    "\n",
    "We run the strategies on the last 40000 timesteps. BPS units are used.\n",
    "\n",
    "As described above, we trade on\n",
    "- all indices\n",
    "- a subset of indices, based on predictive correlation\n",
    "\n",
    "1. Optimizing for `return` on each timestep\n",
    "    - Trading on all indices: `mean: 9.6, standard deviation: 8.22, sharpe: 1.17`\n",
    "    - Trading on a subset of indices: `mean: 9.08, standard deviation: 8.25, sharpe: 1.1`\n",
    "2. Optimizing for `return/std_dev` on each timestep\n",
    "    - Trading on all indices: `mean: 3.31, standard deviation: 2.92, sharpe: 1.13`\n",
    "    - Trading on a subset of indices: `mean: 4.25, standard deviation: 3.41, sharpe: 1.25`\n",
    "\n",
    "As expected, the first strategy gives a higher mean, while the second lowers the standard deviation (a measure of the risk involved). Decrease in sharpe can be attributed to the noisy data, and predictions by models.\n",
    "\n",
    "Trading on the subset of indices, we observe a higher sharpe with strategy-2. This is due to usage of more-reliable models.\n",
    "\n",
    "Our models and strategies do not make any assumptions, other than those given:\n",
    "- Given prices, returns are conditionally independent of previous returns\n",
    "- Each index is a function of stocks only from a particular sector and conforms to the functional form given in equation-1 of the problem statement"
   ]
  }
 ],
 "metadata": {
  "colab": {
   "provenance": []
  },
  "kernelspec": {
   "display_name": "Python 3 (ipykernel)",
   "language": "python",
   "name": "python3"
  },
  "language_info": {
   "codemirror_mode": {
    "name": "ipython",
    "version": 3
   },
   "file_extension": ".py",
   "mimetype": "text/x-python",
   "name": "python",
   "nbconvert_exporter": "python",
   "pygments_lexer": "ipython3",
   "version": "3.8.10"
  }
 },
 "nbformat": 4,
 "nbformat_minor": 1
}
