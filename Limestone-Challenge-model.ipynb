{
 "cells": [
  {
   "cell_type": "code",
   "execution_count": 2,
   "metadata": {
    "id": "Y18ylLiOV7CT"
   },
   "outputs": [],
   "source": [
    "import pandas as pd\n",
    "import numpy as np\n",
    "import sklearn"
   ]
  },
  {
   "cell_type": "code",
   "execution_count": 3,
   "metadata": {
    "id": "oLVgFJskV7CU"
   },
   "outputs": [],
   "source": [
    "stocks = pd.read_csv('data_challenge_stock_prices.csv')\n",
    "index = pd.read_csv('data_challenge_index_prices.csv')"
   ]
  },
  {
   "cell_type": "code",
   "execution_count": 4,
   "metadata": {
    "id": "D3GcCUksV7CV"
   },
   "outputs": [],
   "source": [
    "def getBPS(df):\n",
    "    mat = df.to_numpy()\n",
    "    returns = (mat[1:] - mat[:len(mat)-1])/mat[:len(mat)-1]\n",
    "    return returns * 10000"
   ]
  },
  {
   "cell_type": "code",
   "execution_count": 5,
   "metadata": {
    "colab": {
     "base_uri": "https://localhost:8080/"
    },
    "id": "prhdIxhlV7CV",
    "outputId": "7e2a9cfd-b067-4768-83b6-431d15f1e80d"
   },
   "outputs": [
    {
     "data": {
      "text/plain": [
       "(200000, 15)"
      ]
     },
     "execution_count": 5,
     "metadata": {},
     "output_type": "execute_result"
    }
   ],
   "source": [
    "index.shape"
   ]
  },
  {
   "cell_type": "code",
   "execution_count": 6,
   "metadata": {
    "id": "8qZpUjCBV7CV"
   },
   "outputs": [],
   "source": [
    "st = getBPS(stocks)\n",
    "indices = getBPS(index)"
   ]
  },
  {
   "cell_type": "code",
   "execution_count": 7,
   "metadata": {
    "colab": {
     "base_uri": "https://localhost:8080/"
    },
    "id": "RimIjNfEV7CV",
    "outputId": "7c89b7a2-3e41-4de1-bca8-0bd7f265d2ad"
   },
   "outputs": [
    {
     "data": {
      "text/plain": [
       "(199999, 100)"
      ]
     },
     "execution_count": 7,
     "metadata": {},
     "output_type": "execute_result"
    }
   ],
   "source": [
    "st.shape"
   ]
  },
  {
   "cell_type": "code",
   "execution_count": 8,
   "metadata": {
    "id": "qw2JmZLCV7CW"
   },
   "outputs": [],
   "source": [
    "from scipy import stats"
   ]
  },
  {
   "cell_type": "code",
   "execution_count": 9,
   "metadata": {
    "id": "fJHrTcQ2V7CW"
   },
   "outputs": [],
   "source": [
    "corr = np.zeros((100,100))"
   ]
  },
  {
   "cell_type": "code",
   "execution_count": 10,
   "metadata": {
    "colab": {
     "base_uri": "https://localhost:8080/",
     "height": 345
    },
    "id": "RvdCkVknV7CW",
    "outputId": "267f738e-f91e-47e5-d8d7-e4f6831dfa69"
   },
   "outputs": [],
   "source": [
    "for i in range(100):\n",
    "    for j in range(100):\n",
    "        corr[i][j] = stats.pearsonr(st[:,i],st[:,j])[0]"
   ]
  },
  {
   "cell_type": "code",
   "execution_count": 11,
   "metadata": {
    "id": "GWVyajAAV7CW"
   },
   "outputs": [],
   "source": [
    "maxcorr = np.zeros(100,dtype=np.int32)\n",
    "for i in range(100):\n",
    "    ind = (i+1)%100\n",
    "    for j in range(100):\n",
    "        if i==j:\n",
    "            continue\n",
    "        if corr[i][j]>corr[i][ind]:\n",
    "            ind = j\n",
    "    maxcorr[i] = ind"
   ]
  },
  {
   "cell_type": "code",
   "execution_count": 12,
   "metadata": {
    "id": "Wt0o6b_cV7CX",
    "outputId": "67c529dd-fd83-434c-c484-7dfa2404be93"
   },
   "outputs": [
    {
     "data": {
      "text/plain": [
       "array([88, 90, 98, 98, 88, 97, 98, 98, 99, 98, 90, 88, 99, 97, 88, 97, 98,\n",
       "       98, 88, 98, 88, 88, 88, 98, 97, 88, 88, 99, 98, 99, 99, 97, 98, 98,\n",
       "       97, 97, 99, 97, 88, 88, 99, 99, 98, 88, 99, 88, 99, 98, 97, 88, 99,\n",
       "       98, 99, 98, 88, 99, 97, 99, 98, 99, 98, 97, 97, 98, 97, 97, 98, 88,\n",
       "       97, 99, 97, 99, 98, 99, 99, 88, 97, 99, 88, 88, 99, 98, 88, 97, 99,\n",
       "       97, 97, 98, 90, 97, 88, 98, 99, 97, 97, 97, 99, 95, 91, 96])"
      ]
     },
     "execution_count": 12,
     "metadata": {},
     "output_type": "execute_result"
    }
   ],
   "source": [
    "maxcorr"
   ]
  },
  {
   "cell_type": "code",
   "execution_count": 13,
   "metadata": {
    "id": "63wlDZ8gV7CX"
   },
   "outputs": [],
   "source": [
    "buckets = {i:[] for i in maxcorr}"
   ]
  },
  {
   "cell_type": "code",
   "execution_count": 14,
   "metadata": {
    "id": "xymTaUyaV7CX"
   },
   "outputs": [],
   "source": [
    "for i in range(100):\n",
    "    buckets[maxcorr[i]].append(i)"
   ]
  },
  {
   "cell_type": "code",
   "execution_count": 15,
   "metadata": {
    "id": "zSsTQCOaV7CX",
    "outputId": "6651e922-b9fc-441d-8992-78ed9996cbca"
   },
   "outputs": [
    {
     "name": "stdout",
     "output_type": "stream",
     "text": [
      "88 [0, 4, 11, 14, 18, 20, 21, 22, 25, 26, 38, 39, 43, 45, 49, 54, 67, 75, 78, 79, 82, 90]\n",
      "90 [1, 10, 88]\n",
      "98 [2, 3, 6, 7, 9, 16, 17, 19, 23, 28, 32, 33, 42, 47, 51, 53, 58, 60, 63, 66, 72, 81, 87, 91]\n",
      "97 [5, 13, 15, 24, 31, 34, 35, 37, 48, 56, 61, 62, 64, 65, 68, 70, 76, 83, 85, 86, 89, 93, 94, 95]\n",
      "99 [8, 12, 27, 29, 30, 36, 40, 41, 44, 46, 50, 52, 55, 57, 59, 69, 71, 73, 74, 77, 80, 84, 92, 96]\n",
      "95 [97]\n",
      "91 [98]\n",
      "96 [99]\n"
     ]
    }
   ],
   "source": [
    "for i in buckets:\n",
    "    print(i,buckets[i])"
   ]
  },
  {
   "cell_type": "code",
   "execution_count": 16,
   "metadata": {
    "id": "D2Wc5kWpV7CX"
   },
   "outputs": [],
   "source": [
    "buckets[88].extend(buckets[90])\n",
    "buckets.pop(90)\n",
    "buckets.pop(95)\n",
    "buckets.pop(91)\n",
    "buckets.pop(96)\n",
    "buckets[98].append(98)\n",
    "buckets[97].append(97)\n",
    "buckets[99].append(99)"
   ]
  },
  {
   "cell_type": "code",
   "execution_count": 17,
   "metadata": {
    "id": "jOfVDFD2V7CY",
    "outputId": "a39b848b-4c0b-4b9e-a379-fee39e844d0e"
   },
   "outputs": [
    {
     "data": {
      "text/plain": [
       "(4, 25)"
      ]
     },
     "execution_count": 17,
     "metadata": {},
     "output_type": "execute_result"
    }
   ],
   "source": [
    "sectors = []\n",
    "for i in buckets:\n",
    "    sectors.append(buckets[i])\n",
    "sectors = np.array(sectors)\n",
    "sectors.shape"
   ]
  },
  {
   "cell_type": "code",
   "execution_count": 18,
   "metadata": {
    "id": "rW6CIzYzV7CY"
   },
   "outputs": [],
   "source": [
    "# np.save(\"sectors.npy\",sectors)\n",
    "sectors = np.load('sectors.npy')"
   ]
  },
  {
   "cell_type": "code",
   "execution_count": 19,
   "metadata": {
    "id": "1u6cwbK1V7CY"
   },
   "outputs": [],
   "source": [
    "def correlation(vec1, vec2):\n",
    "    dim1 = vec1.shape[1]\n",
    "    dim2 = vec2.shape[1]\n",
    "    correl = np.zeros((dim1,dim2),dtype=np.float32)\n",
    "    for i in range(dim1):\n",
    "        for j in range(dim2):\n",
    "            correl[i][j] = stats.pearsonr(vec1[:,i],vec2[:,j])[0]\n",
    "    return correl"
   ]
  },
  {
   "cell_type": "code",
   "execution_count": 20,
   "metadata": {
    "id": "vWQ9s5rJV7CY"
   },
   "outputs": [],
   "source": [
    "import seaborn as sbn"
   ]
  },
  {
   "cell_type": "code",
   "execution_count": 21,
   "metadata": {
    "id": "RZ3RP3XCV7CY"
   },
   "outputs": [],
   "source": [
    "stock_sectorwise = np.array([st[:,sectors[i]] for i in range(4)])"
   ]
  },
  {
   "cell_type": "code",
   "execution_count": 22,
   "metadata": {
    "id": "KRS7hcywV7CY"
   },
   "outputs": [],
   "source": [
    "import matplotlib.pyplot as plt"
   ]
  },
  {
   "cell_type": "code",
   "execution_count": 23,
   "metadata": {
    "id": "I_pakOG5V7CY",
    "outputId": "bdf59e4e-217c-4d77-8dd1-358120f39195"
   },
   "outputs": [],
   "source": [
    "# for i in range(4):\n",
    "#     for j in range(i,4):\n",
    "#         plt.title(f\"Sector {i} vs Sector {j}\")\n",
    "#         sbn.heatmap(correlation(stock_sectorwise[i],stock_sectorwise[j]),vmin=0,vmax=0.5)\n",
    "#         plt.show()"
   ]
  },
  {
   "cell_type": "code",
   "execution_count": 24,
   "metadata": {
    "id": "psqTUlWoV7CZ"
   },
   "outputs": [],
   "source": [
    "from sklearn.linear_model import LinearRegression"
   ]
  },
  {
   "cell_type": "code",
   "execution_count": 25,
   "metadata": {
    "id": "jHUJABAoV7CZ"
   },
   "outputs": [],
   "source": [
    "def test(Func):   \n",
    "    pred_corr = np.zeros((15,4))\n",
    "    for i in range(4):\n",
    "        for j in range(15):\n",
    "            x = stock_sectorwise[i]     # 199999,25\n",
    "            y = indices                 # 199999,1\n",
    "            x_tr = x[0:12000]\n",
    "            x_te = x[12000:]\n",
    "            y_tr = y[0:12000,j]\n",
    "            y_te = y[12000:,j]\n",
    "            model = Func()\n",
    "            model.fit(x_tr,y_tr)\n",
    "            y_pred = model.predict(x_te)\n",
    "            pecorr = stats.pearsonr(y_te[:],y_pred[:])[0]\n",
    "            pred_corr[j][i] = pecorr\n",
    "    \n",
    "    posn = np.argmax(pred_corr,axis=1)\n",
    "    for i in range(15):\n",
    "        print(i,pred_corr[i],posn[i])\n",
    "    return pred_corr\n"
   ]
  },
  {
   "cell_type": "code",
   "execution_count": 26,
   "metadata": {
    "id": "QV9TA1u-V7Ca"
   },
   "outputs": [],
   "source": [
    "from sklearn.neural_network import MLPRegressor"
   ]
  },
  {
   "cell_type": "code",
   "execution_count": 25,
   "metadata": {
    "id": "x-BRUtcdV7Ca",
    "outputId": "e279a4b8-b809-4f82-9fe9-fb2ff7c4eb37"
   },
   "outputs": [
    {
     "name": "stdout",
     "output_type": "stream",
     "text": [
      "Linear\n",
      "0 [0.44428666 0.08731293 0.08200398 0.08465401] 0\n",
      "1 [0.05599844 0.05183528 0.31142448 0.05264355] 2\n",
      "2 [0.20657407 0.01151913 0.01726661 0.01918735] 0\n",
      "3 [0.0298753  0.34350168 0.02661995 0.02855217] 1\n",
      "4 [0.09505984 0.07339035 0.08738046 0.44746208] 3\n",
      "5 [0.01818233 0.0265306  0.21575747 0.0275874 ] 2\n",
      "6 [0.08724768 0.44362346 0.09761592 0.08195443] 1\n",
      "7 [0.30144975 0.05163767 0.05164508 0.05090786] 0\n",
      "8 [0.04894639 0.30381171 0.05049344 0.05297393] 1\n",
      "9 [0.02944939 0.02110999 0.03250083 0.34517321] 3\n",
      "10 [0.01015871 0.02096384 0.3408217  0.01171519] 2\n",
      "11 [-0.00015145  0.00158011 -0.00180775 -0.00240251] 1\n",
      "12 [ 0.00549766 -0.00246269  0.00126297 -0.00114666] 0\n",
      "13 [-0.00341212  0.00479849  0.00124561 -0.00108384] 1\n",
      "14 [0.01209144 0.00158175 0.00911624 0.20853675] 3\n"
     ]
    }
   ],
   "source": [
    "print(\"Linear\")\n",
    "pc = test(LinearRegression)"
   ]
  },
  {
   "cell_type": "code",
   "execution_count": 27,
   "metadata": {
    "id": "rktJ4iUnV7Ca"
   },
   "outputs": [],
   "source": [
    "# For all except 11,12 and 13, we have figured out which sector."
   ]
  },
  {
   "cell_type": "code",
   "execution_count": 28,
   "metadata": {
    "id": "7otL1IexV7Cb",
    "outputId": "897fde55-c73c-43b1-c5a7-c7eb73309b0e",
    "scrolled": false
   },
   "outputs": [],
   "source": [
    "# print(\"MLP\")\n",
    "# import warnings\n",
    "# with warnings.catch_warnings():\n",
    "#     warnings.simplefilter(\"ignore\")\n",
    "#     pred_corr = test(MLPRegressor)"
   ]
  },
  {
   "cell_type": "code",
   "execution_count": 29,
   "metadata": {
    "id": "sOPQnuI_V7Cb"
   },
   "outputs": [],
   "source": [
    "# A simple neural net gave reasonable correlation for all indices including 11,12 and 13. "
   ]
  },
  {
   "cell_type": "code",
   "execution_count": null,
   "metadata": {
    "id": "l63j29YIV7Cb"
   },
   "outputs": [],
   "source": []
  },
  {
   "cell_type": "code",
   "execution_count": null,
   "metadata": {
    "id": "yEkGit-jV7Cb"
   },
   "outputs": [],
   "source": []
  },
  {
   "cell_type": "code",
   "execution_count": null,
   "metadata": {
    "id": "tnRLFG3_V7Cb"
   },
   "outputs": [],
   "source": []
  },
  {
   "cell_type": "code",
   "execution_count": 27,
   "metadata": {
    "id": "rlTAc6ReV7Cc"
   },
   "outputs": [],
   "source": [
    "index_sector = {0:0,1:2,2:0,3:1,4:3,5:2,6:1,7:0,8:1,9:3,10:2,11:0,12:3,13:1,14:3}"
   ]
  },
  {
   "cell_type": "code",
   "execution_count": 27,
   "metadata": {
    "id": "CHElmxtVV7Cc"
   },
   "outputs": [],
   "source": [
    "def train_and_evaluate(ind_num,sector_num,train_len,test_len,model, do_scale=False, do_poly=-1):\n",
    "    train_x = stock_sectorwise[sector_num][:train_len]\n",
    "    train_y = indices[:train_len,ind_num]\n",
    "    test_x = stock_sectorwise[sector_num][train_len:train_len+test_len]\n",
    "    test_y = indices[train_len:train_len+test_len,ind_num]\n",
    "\n",
    "    print(train_y.shape, test_y.shape)\n",
    "\n",
    "    if do_scale:\n",
    "        # scale data\n",
    "        scaler_x = sklearn.preprocessing.StandardScaler().fit(train_x)\n",
    "        train_x = scaler_x.transform(train_x)\n",
    "        test_x = scaler_x.transform(test_x)\n",
    "        scaler_y = sklearn.preprocessing.StandardScaler().fit(train_y.reshape(-1, 1))\n",
    "        train_y = scaler_y.transform(train_y.reshape(-1, 1))\n",
    "\n",
    "    if do_poly != -1:\n",
    "        poly = sklearn.preprocessing.PolynomialFeatures(degree=do_poly)\n",
    "        train_x = poly.fit_transform(train_x)\n",
    "        test_x = poly.fit_transform(test_x)\n",
    "\n",
    "    model.fit(train_x,train_y)\n",
    "    y_pred = model.predict(test_x)\n",
    "\n",
    "    if do_scale:\n",
    "        y_pred = scaler_y.inverse_transform(y_pred.reshape(-1,1))\n",
    "\n",
    "    pecorr = stats.pearsonr(test_y,y_pred)[0]\n",
    "    print(f\"Predictive correlation for index {ind_num} : {pecorr}\")\n",
    "    return model"
   ]
  },
  {
   "cell_type": "code",
   "execution_count": 101,
   "metadata": {},
   "outputs": [],
   "source": [
    "train_len = 160000-1\n",
    "test_len = 40000"
   ]
  },
  {
   "cell_type": "code",
   "execution_count": 88,
   "metadata": {
    "id": "0nPC-1b2V7Cc"
   },
   "outputs": [
    {
     "name": "stdout",
     "output_type": "stream",
     "text": [
      "(159999,) (40000,)\n",
      "Predictive correlation for index 0 : 0.44672797701419487\n"
     ]
    }
   ],
   "source": [
    "#Index 0:\n",
    "#Linear Model\n",
    "ind_num = 0\n",
    "sector_num = index_sector[ind_num]\n",
    "mod0 = LinearRegression()                               # 44%\n",
    "# mod0 = sklearn.linear_model.Ridge()\n",
    "# mod0 = sklearn.svm.SVR()      # quadratic times\n",
    "# mod0 = MLPRegressor(hidden_layer_sizes=128)           # 40%\n",
    "mod0 = train_and_evaluate(ind_num,sector_num,train_len,test_len,mod0)"
   ]
  },
  {
   "cell_type": "code",
   "execution_count": 33,
   "metadata": {},
   "outputs": [],
   "source": [
    "# from sklearn.kernel_ridge import KernelRidge\n",
    "from sklearn import tree"
   ]
  },
  {
   "cell_type": "code",
   "execution_count": 114,
   "metadata": {
    "id": "AyfSUHqVV7Cc"
   },
   "outputs": [],
   "source": [
    "#Index 1:\n",
    "#Neural Net\n",
    "ind_num = 1\n",
    "sector_num = index_sector[ind_num]\n",
    "mod1 = MLPRegressor(hidden_layer_sizes=100)\n",
    "# mod1 = LinearRegression()\n",
    "# mod1 = tree.DecisionTreeRegressor()       # 17%\n",
    "mod1 = train_and_evaluate(ind_num,sector_num,train_len,test_len,mod1, do_scale=True)\n",
    "\n",
    "# [MLP 100] scaling gave a 1% increase\n",
    "# Linear+poly-2: 37%"
   ]
  },
  {
   "cell_type": "code",
   "execution_count": 102,
   "metadata": {},
   "outputs": [],
   "source": [
    "import torch\n",
    "from torch.utils.data import DataLoader, TensorDataset"
   ]
  },
  {
   "cell_type": "code",
   "execution_count": 103,
   "metadata": {},
   "outputs": [],
   "source": [
    "ind_num = 1\n",
    "sector_num = index_sector[ind_num]\n",
    "\n",
    "train_x = stock_sectorwise[sector_num][:train_len]\n",
    "train_y = indices[:train_len,ind_num]\n",
    "test_x = stock_sectorwise[sector_num][train_len:train_len+test_len]\n",
    "test_y = indices[train_len:train_len+test_len,ind_num]\n",
    "\n",
    "loader_kwargs = {\n",
    "    'batch_size': 1024\n",
    "}\n",
    "train_loader = DataLoader(\n",
    "    TensorDataset(torch.Tensor(train_x),torch.Tensor(train_y)), **loader_kwargs\n",
    ")\n",
    "\n",
    "test_loader = DataLoader(\n",
    "    TensorDataset(torch.Tensor(test_x),torch.Tensor(test_y)), **loader_kwargs\n",
    ")"
   ]
  },
  {
   "cell_type": "code",
   "execution_count": 108,
   "metadata": {},
   "outputs": [],
   "source": [
    "class MLP_Model(torch.nn.Module):\n",
    "    def __init__(self):\n",
    "        super().__init__()\n",
    "        self.net = torch.nn.Sequential(\n",
    "            torch.nn.Linear(25, 64),\n",
    "            torch.nn.BatchNorm1d(64),\n",
    "            torch.nn.ReLU(),\n",
    "            torch.nn.Linear(64, 16),\n",
    "            torch.nn.BatchNorm1d(16),\n",
    "            torch.nn.ReLU(),\n",
    "            torch.nn.Linear(16, 1),\n",
    "        )\n",
    "    def forward(self, x):\n",
    "        return self.net(x)\n",
    "\n",
    "model_mlp = MLP_Model()\n",
    "optim = torch.optim.Adam(model_mlp.parameters(), lr=5e-4)\n",
    "loss = torch.nn.MSELoss()"
   ]
  },
  {
   "cell_type": "code",
   "execution_count": 109,
   "metadata": {},
   "outputs": [],
   "source": [
    "def train(model, optimizer, train_loader, loss_fn, num_epochs, test_loader=None):\n",
    "    dict_losses = {\n",
    "        \"epoch\": [],\n",
    "        \"train_loss\": [],\n",
    "    }\n",
    "    if test_loader is not None:\n",
    "        dict_losses[\"test_loss\"] = []\n",
    "    \n",
    "    print_width = max(1, num_epochs/10)\n",
    "\n",
    "    for epoch in range(num_epochs):\n",
    "        train_loss = 0\n",
    "        cnt_tr = 0\n",
    "\n",
    "        model.train()\n",
    "        \n",
    "        for inputs, labels in train_loader:\n",
    "            optimizer.zero_grad()\n",
    "            \n",
    "            outputs = model(inputs).flatten()\n",
    "\n",
    "            # print(outputs.shape, labels.shape)\n",
    "            assert outputs.shape==labels.shape                  # useful check\n",
    "\n",
    "            loss = loss_fn(outputs, labels)\n",
    "            loss.backward()\n",
    "            optimizer.step()\n",
    "            \n",
    "            train_loss += loss.item()\n",
    "            cnt_tr += 1\n",
    "\n",
    "        dict_losses[\"epoch\"].append(epoch)\n",
    "        dict_losses[\"train_loss\"].append(train_loss/cnt_tr)\n",
    "\n",
    "        if test_loader is not None:\n",
    "            model.eval()\n",
    "            with torch.no_grad():\n",
    "                test_loss = 0\n",
    "                cnt = 0\n",
    "                for inputs, labels in test_loader:\n",
    "                    outputs = model(inputs).flatten()\n",
    "                    loss = loss_fn(outputs, labels)\n",
    "                    test_loss += loss.item()\n",
    "                    cnt += 1\n",
    "            dict_losses[\"test_loss\"].append(test_loss/cnt)\n",
    "\n",
    "        if epoch%print_width==0:\n",
    "            print(\"Epoch:\", epoch, \"\\tTrain Loss:\", train_loss/cnt_tr)\n",
    "        \n",
    "    return dict_losses"
   ]
  },
  {
   "cell_type": "code",
   "execution_count": 110,
   "metadata": {},
   "outputs": [
    {
     "name": "stdout",
     "output_type": "stream",
     "text": [
      "Epoch: 0 \tTrain Loss: 0.6307357948297149\n",
      "Epoch: 10 \tTrain Loss: 0.5718700323894526\n",
      "Epoch: 20 \tTrain Loss: 0.561849817538717\n",
      "Epoch: 30 \tTrain Loss: 0.5570126883922868\n",
      "Epoch: 40 \tTrain Loss: 0.5539710333772526\n",
      "Epoch: 50 \tTrain Loss: 0.551868370194344\n",
      "Epoch: 60 \tTrain Loss: 0.5503897963056139\n",
      "Epoch: 70 \tTrain Loss: 0.5492561620891474\n",
      "Epoch: 80 \tTrain Loss: 0.5482859453957551\n",
      "Epoch: 90 \tTrain Loss: 0.5474019637153407\n"
     ]
    }
   ],
   "source": [
    "dict_losses = train(model_mlp, optim, train_loader, loss, 100, test_loader)"
   ]
  },
  {
   "cell_type": "code",
   "execution_count": 111,
   "metadata": {},
   "outputs": [
    {
     "data": {
      "image/png": "[encoded data removed]",
      "text/plain": [
       "<Figure size 432x288 with 1 Axes>"
      ]
     },
     "metadata": {
      "needs_background": "light"
     },
     "output_type": "display_data"
    }
   ],
   "source": [
    "plt.plot(dict_losses['epoch'], dict_losses['train_loss'], label='train loss')\n",
    "plt.plot(dict_losses['epoch'], dict_losses['test_loss'], label='test loss')\n",
    "plt.legend()\n",
    "plt.show()"
   ]
  },
  {
   "cell_type": "code",
   "execution_count": 113,
   "metadata": {},
   "outputs": [
    {
     "name": "stdout",
     "output_type": "stream",
     "text": [
      "0.38924997409319567\n"
     ]
    }
   ],
   "source": [
    "model_mlp.eval()\n",
    "with torch.no_grad():\n",
    "    l_in = []\n",
    "    l_lbl = []\n",
    "    for inputs, labels in test_loader:\n",
    "        l_in.append(model_mlp(inputs).flatten())\n",
    "        l_lbl.append(labels)\n",
    "    in_arr = np.concatenate(l_in)\n",
    "    lbl_arr = np.concatenate(l_lbl)\n",
    "    pecorr = stats.pearsonr(lbl_arr,in_arr)[0]\n",
    "print(pecorr)"
   ]
  },
  {
   "cell_type": "code",
   "execution_count": 33,
   "metadata": {
    "id": "7qCA6zTxV7Cc"
   },
   "outputs": [
    {
     "name": "stdout",
     "output_type": "stream",
     "text": [
      "(159999,) (40000,)\n",
      "Predictive correlation for index 2 : 0.5891001649291996\n"
     ]
    }
   ],
   "source": [
    "#Index 2:\n",
    "#Neural Net\n",
    "ind_num = 2\n",
    "sector_num = index_sector[ind_num]\n",
    "mod2 = MLPRegressor(hidden_layer_sizes=(20))\n",
    "mod2 = train_and_evaluate(ind_num,sector_num,train_len,test_len,mod2)"
   ]
  },
  {
   "cell_type": "code",
   "execution_count": 34,
   "metadata": {
    "id": "ZP2ioPvYV7Cc"
   },
   "outputs": [
    {
     "name": "stdout",
     "output_type": "stream",
     "text": [
      "(159999,) (40000,)\n",
      "Predictive correlation for index 3 : 0.43961652493707254\n"
     ]
    }
   ],
   "source": [
    "#Index 3:\n",
    "#Neural Net\n",
    "ind_num = 3\n",
    "sector_num = index_sector[ind_num]\n",
    "mod3 = MLPRegressor(hidden_layer_sizes=(5))\n",
    "mod3 = train_and_evaluate(ind_num,sector_num,train_len,test_len,mod3)"
   ]
  },
  {
   "cell_type": "code",
   "execution_count": 35,
   "metadata": {
    "id": "PLoS9xdIV7Cc"
   },
   "outputs": [
    {
     "name": "stdout",
     "output_type": "stream",
     "text": [
      "(159999,) (40000,)\n",
      "Predictive correlation for index 4 : 0.44630110708538284\n"
     ]
    }
   ],
   "source": [
    "#Index 4:\n",
    "#Linear Model\n",
    "ind_num = 4\n",
    "sector_num = index_sector[ind_num]\n",
    "# mod4 = LinearRegression()\n",
    "mod4 = MLPRegressor(hidden_layer_sizes=20)\n",
    "mod4 = train_and_evaluate(ind_num,sector_num,train_len,test_len,mod4)"
   ]
  },
  {
   "cell_type": "code",
   "execution_count": 36,
   "metadata": {
    "id": "8LZEUgprV7Cc"
   },
   "outputs": [
    {
     "name": "stdout",
     "output_type": "stream",
     "text": [
      "(159999,) (40000,)\n",
      "Predictive correlation for index 5 : 0.5621079613598187\n"
     ]
    }
   ],
   "source": [
    "#Index 5:\n",
    "#Neural Net\n",
    "ind_num = 5\n",
    "sector_num = index_sector[ind_num]\n",
    "mod5 = MLPRegressor(hidden_layer_sizes=(10))\n",
    "mod5 = train_and_evaluate(ind_num,sector_num,train_len,test_len,mod5)"
   ]
  },
  {
   "cell_type": "code",
   "execution_count": 37,
   "metadata": {
    "id": "EW6-7vXCV7Cc"
   },
   "outputs": [
    {
     "name": "stdout",
     "output_type": "stream",
     "text": [
      "(159999,) (40000,)\n",
      "Predictive correlation for index 6 : 0.44558307756336796\n"
     ]
    }
   ],
   "source": [
    "#Index 6:\n",
    "#Neural Net\n",
    "ind_num = 6\n",
    "sector_num = index_sector[ind_num]\n",
    "mod6 = MLPRegressor(hidden_layer_sizes=(5))\n",
    "# mod6 = LinearRegression()           # almost the same as MLP-5\n",
    "mod6 = train_and_evaluate(ind_num,sector_num,train_len,test_len,mod6)"
   ]
  },
  {
   "cell_type": "code",
   "execution_count": 38,
   "metadata": {
    "id": "zGXjzGQrV7Cc"
   },
   "outputs": [
    {
     "name": "stdout",
     "output_type": "stream",
     "text": [
      "(159999,) (40000,)\n",
      "Predictive correlation for index 7 : 0.3649918985105094\n"
     ]
    },
    {
     "name": "stderr",
     "output_type": "stream",
     "text": [
      "/home/govind/.local/lib/python3.8/site-packages/sklearn/neural_network/_multilayer_perceptron.py:699: UserWarning: Training interrupted by user.\n",
      "  warnings.warn(\"Training interrupted by user.\")\n"
     ]
    }
   ],
   "source": [
    "#Index 7:\n",
    "#Neural Net\n",
    "ind_num = 7\n",
    "sector_num = index_sector[ind_num]\n",
    "mod7 = MLPRegressor(hidden_layer_sizes=(80))\n",
    "# mod7 = LinearRegression()     # usual:30%, scale+deg-2:36%\n",
    "mod7 = train_and_evaluate(ind_num,sector_num,train_len,test_len,mod7)\n",
    "\n",
    "# lin-reg: 30%\n",
    "# lin + [scale] + deg-2: 36%\n",
    "# MLP-20: 36%\n",
    "# MLP-80: 40%"
   ]
  },
  {
   "cell_type": "code",
   "execution_count": null,
   "metadata": {
    "id": "Va1mPO_dV7Cc"
   },
   "outputs": [
    {
     "name": "stdout",
     "output_type": "stream",
     "text": [
      "(159999,) (40000,)\n"
     ]
    }
   ],
   "source": [
    "#Index 8:\n",
    "#Neural Net\n",
    "ind_num = 8\n",
    "sector_num = index_sector[ind_num]\n",
    "mod8 = MLPRegressor(hidden_layer_sizes=(80))\n",
    "mod8 = train_and_evaluate(ind_num,sector_num,train_len,test_len,mod8)"
   ]
  },
  {
   "cell_type": "code",
   "execution_count": null,
   "metadata": {
    "id": "72ktuc8ZV7Cc"
   },
   "outputs": [],
   "source": [
    "#Index 9:\n",
    "#Neural Net\n",
    "ind_num = 9\n",
    "sector_num = index_sector[ind_num]\n",
    "mod9 = MLPRegressor(hidden_layer_sizes=(80))\n",
    "mod9 = train_and_evaluate(ind_num,sector_num,train_len,test_len,mod9)"
   ]
  },
  {
   "cell_type": "code",
   "execution_count": null,
   "metadata": {
    "id": "o1GZACEUV7Cc"
   },
   "outputs": [],
   "source": [
    "#Index 10:\n",
    "#Neural Net\n",
    "ind_num = 10\n",
    "sector_num = index_sector[ind_num]\n",
    "mod10 = MLPRegressor(hidden_layer_sizes=(80))\n",
    "mod10 = train_and_evaluate(ind_num,sector_num,train_len,test_len,mod10)"
   ]
  },
  {
   "cell_type": "code",
   "execution_count": null,
   "metadata": {
    "id": "p0p__NtrV7Cc"
   },
   "outputs": [],
   "source": [
    "#Index 11:\n",
    "#Neural Net\n",
    "ind_num = 11\n",
    "sector_num = index_sector[ind_num]\n",
    "mod11 = MLPRegressor(hidden_layer_sizes=(80))\n",
    "mod11 = train_and_evaluate(ind_num,sector_num,train_len,test_len,mod11)"
   ]
  },
  {
   "cell_type": "code",
   "execution_count": null,
   "metadata": {
    "id": "ccFtwKunV7Cd"
   },
   "outputs": [],
   "source": [
    "#Index 12:\n",
    "#Neural Net\n",
    "ind_num = 12\n",
    "sector_num = index_sector[ind_num]\n",
    "mod12 = MLPRegressor(hidden_layer_sizes=(80))\n",
    "mod12 = train_and_evaluate(ind_num,sector_num,train_len,test_len,mod12)"
   ]
  },
  {
   "cell_type": "code",
   "execution_count": null,
   "metadata": {
    "id": "os-mAkNIV7Cd"
   },
   "outputs": [],
   "source": [
    "#Index 13:\n",
    "#Neural Net\n",
    "ind_num = 13\n",
    "sector_num = index_sector[ind_num]\n",
    "mod13 = MLPRegressor(hidden_layer_sizes=(80))\n",
    "mod13 = train_and_evaluate(ind_num,sector_num,train_len,test_len,mod13)"
   ]
  },
  {
   "cell_type": "code",
   "execution_count": null,
   "metadata": {
    "id": "iqvmpvF8V7Cd"
   },
   "outputs": [],
   "source": [
    "#Index 14:\n",
    "#Neural Net\n",
    "ind_num = 14\n",
    "sector_num = index_sector[ind_num]\n",
    "mod14 = MLPRegressor(hidden_layer_sizes=(20))\n",
    "mod14 = train_and_evaluate(ind_num,sector_num,train_len,test_len,mod14)"
   ]
  },
  {
   "cell_type": "code",
   "execution_count": null,
   "metadata": {},
   "outputs": [],
   "source": []
  },
  {
   "cell_type": "code",
   "execution_count": null,
   "metadata": {},
   "outputs": [],
   "source": [
    "models = []\n",
    "\n",
    "import joblib\n",
    "\n",
    "# for i,mod in enumerate(models):\n",
    "#     joblib.dump(mod, f'models/{i}.pkl')\n",
    "\n",
    "for i in range(15):\n",
    "    models.append(joblib.load(f'models/{i}.pkl'))"
   ]
  },
  {
   "cell_type": "code",
   "execution_count": 121,
   "metadata": {},
   "outputs": [],
   "source": [
    "def predict(returns): #Takes stock returns as input, returns index return predictions.\n",
    "    res = []\n",
    "    for i in range(15):\n",
    "        inp = returns[:,sectors[index_sector[i]]]\n",
    "        res.append(models[i].predict(inp))\n",
    "    \n",
    "    return np.array(res).T"
   ]
  },
  {
   "cell_type": "code",
   "execution_count": null,
   "metadata": {},
   "outputs": [],
   "source": [
    "predictions = predict(st[160000:])\n",
    "covmat = ((predictions.T @ predictions)/len(predictions)) - np.outer(np.mean(predictions,axis=0),np.mean(predictions,axis=0))"
   ]
  },
  {
   "cell_type": "code",
   "execution_count": 15,
   "metadata": {},
   "outputs": [
    {
     "data": {
      "text/plain": [
       "array([1.55232620e+00, 2.40759108e+03, 4.51278900e-01, 2.46218576e+00,\n",
       "       1.51903318e+00, 4.00497420e-01, 1.51050232e+00, 1.19767012e-01,\n",
       "       1.19582003e-01, 2.50721004e+00, 2.50653915e+00, 7.63726201e-01,\n",
       "       7.76832704e-01, 7.62416024e-01, 4.15769606e-01])"
      ]
     },
     "execution_count": 15,
     "metadata": {},
     "output_type": "execute_result"
    }
   ],
   "source": [
    "covmat.diagonal()"
   ]
  },
  {
   "cell_type": "code",
   "execution_count": 16,
   "metadata": {},
   "outputs": [],
   "source": [
    "indices_to_trade = list(range(15))"
   ]
  },
  {
   "cell_type": "code",
   "execution_count": 17,
   "metadata": {},
   "outputs": [],
   "source": [
    "timesteps = 40000\n",
    "basev = 180000-1\n",
    "stock_prices = st[basev:basev+timesteps]\n",
    "pred = predict(stock_prices)[:,indices_to_trade]\n",
    "cov_submat = covmat[indices_to_trade,:][:,indices_to_trade]"
   ]
  },
  {
   "cell_type": "code",
   "execution_count": 18,
   "metadata": {},
   "outputs": [],
   "source": [
    "from scipy.optimize import minimize\n",
    "def tradingstrategy(timestep,pred,cov_submat,indices_to_trade):\n",
    "  # To return a portfolio of length timesteps, containing the position of each index we're trading in at time T\n",
    "\n",
    "    def objective_func(portfolio,predictions):\n",
    "        returns = np.dot(portfolio, predictions)\n",
    "        var = np.dot(portfolio,np.dot(covmat[indices_to_trade,:][:,indices_to_trade],portfolio))\n",
    "        return -returns/np.sqrt(var)\n",
    "    \n",
    "    portfolios = []\n",
    "    for t in range(timesteps):\n",
    "        return_pred = pred[t]\n",
    "        init_guess = np.ones_like(return_pred)\n",
    "        init_guess /= len(init_guess)\n",
    "        bounds = [(-1,1) for i in range(len(init_guess))]\n",
    "        constraints = ( {\"type\": \"eq\", \"fun\": lambda x: np.sum(x)})\n",
    "        portf = minimize(lambda wt:objective_func(wt,return_pred),init_guess,  method=\"SLSQP\", bounds = bounds, constraints = constraints ).x\n",
    "        portfolios.append(portf)\n",
    "        if t%1000==0:\n",
    "            print(t)\n",
    "    return portfolios"
   ]
  },
  {
   "cell_type": "code",
   "execution_count": 19,
   "metadata": {},
   "outputs": [
    {
     "name": "stdout",
     "output_type": "stream",
     "text": [
      "[ 1.50605219 -5.62340515  0.35278602 -0.78417665  0.8431377   3.13473069\n",
      "  0.21869979  1.35551618  0.98358211 -0.13989541  0.231845    0.83115778\n",
      "  0.44260166 -0.8270171   0.0534096 ]\n"
     ]
    }
   ],
   "source": [
    "print(pred[0]/np.sqrt(cov_submat.diagonal()))"
   ]
  },
  {
   "cell_type": "code",
   "execution_count": null,
   "metadata": {},
   "outputs": [],
   "source": [
    "portfolios = tradingstrategy(timesteps, pred, cov_submat, indices_to_trade)"
   ]
  },
  {
   "cell_type": "code",
   "execution_count": 48,
   "metadata": {},
   "outputs": [
    {
     "name": "stdout",
     "output_type": "stream",
     "text": [
      "[ 0.26234949 -1.          0.09127622 -0.12425296  0.07530482  0.89215669\n",
      " -0.19529052 -0.18586834  0.66737643 -0.03410852 -0.14155274  0.09437389\n",
      " -0.04078634 -0.27609083 -0.0848873 ]\n",
      "2.636779683484747e-16\n",
      "[-1.64362799e-01  3.29810360e-01 -2.89402190e-01 -3.15511311e-02\n",
      "  9.50277169e-04 -1.99575376e-01 -2.12638717e-01 -3.17213853e-01\n",
      "  1.00000000e+00 -8.69741947e-02  8.54375367e-03  2.52891649e-01\n",
      " -1.44418665e-01 -2.68279501e-01  1.22220387e-01]\n",
      "-2.7755575615628914e-17\n"
     ]
    }
   ],
   "source": [
    "print(portfolios[0])\n",
    "print(np.sum(portfolios[0]))\n",
    "print(portfolios[1])\n",
    "print(np.sum(portfolios[1]))"
   ]
  },
  {
   "cell_type": "code",
   "execution_count": 49,
   "metadata": {},
   "outputs": [
    {
     "name": "stdout",
     "output_type": "stream",
     "text": [
      "3.0255621827591814 2.5370024977280132\n"
     ]
    }
   ],
   "source": [
    "index_prices = indices[basev:basev+timesteps,indices_to_trade]\n",
    "\n",
    "return_perc = []\n",
    "for a,b in zip(portfolios,index_prices):\n",
    "    return_perc.append(np.dot(a,b))\n",
    "\n",
    "print(np.mean(return_perc),np.std(return_perc))"
   ]
  },
  {
   "cell_type": "code",
   "execution_count": 50,
   "metadata": {},
   "outputs": [
    {
     "data": {
      "text/plain": [
       "1.1925729660441733"
      ]
     },
     "execution_count": 50,
     "metadata": {},
     "output_type": "execute_result"
    }
   ],
   "source": [
    "3.02556/2.537002"
   ]
  },
  {
   "cell_type": "code",
   "execution_count": null,
   "metadata": {},
   "outputs": [],
   "source": []
  }
 ],
 "metadata": {
  "colab": {
   "provenance": []
  },
  "kernelspec": {
   "display_name": "Python 3 (ipykernel)",
   "language": "python",
   "name": "python3"
  },
  "language_info": {
   "codemirror_mode": {
    "name": "ipython",
    "version": 3
   },
   "file_extension": ".py",
   "mimetype": "text/x-python",
   "name": "python",
   "nbconvert_exporter": "python",
   "pygments_lexer": "ipython3",
   "version": "3.9.4"
  }
 },
 "nbformat": 4,
 "nbformat_minor": 1
}
